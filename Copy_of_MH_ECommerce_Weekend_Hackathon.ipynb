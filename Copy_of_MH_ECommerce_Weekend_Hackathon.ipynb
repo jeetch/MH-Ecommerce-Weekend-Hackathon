{
  "nbformat": 4,
  "nbformat_minor": 0,
  "metadata": {
    "colab": {
      "name": "Copy of MH ECommerce Weekend Hackathon",
      "provenance": [],
      "collapsed_sections": [
        "0hM-upupzKLc",
        "oUuM_UhXJCKT",
        "aCSlyzLu9zPQ"
      ],
      "toc_visible": true
    },
    "kernelspec": {
      "name": "python3",
      "display_name": "Python 3"
    },
    "accelerator": "GPU"
  },
  "cells": [
    {
      "cell_type": "markdown",
      "metadata": {
        "id": "0qB2aw388aya",
        "colab_type": "text"
      },
      "source": [
        "## Imports"
      ]
    },
    {
      "cell_type": "code",
      "metadata": {
        "id": "Qj2CLFCjst8Z",
        "colab_type": "code",
        "outputId": "4c52932b-94b4-4319-cf58-4c78f5ae0226",
        "colab": {
          "base_uri": "https://localhost:8080/",
          "height": 265
        }
      },
      "source": [
        "pip install catboost"
      ],
      "execution_count": 0,
      "outputs": [
        {
          "output_type": "stream",
          "text": [
            "Requirement already satisfied: catboost in /usr/local/lib/python3.6/dist-packages (0.23.2)\n",
            "Requirement already satisfied: numpy>=1.16.0 in /usr/local/lib/python3.6/dist-packages (from catboost) (1.18.5)\n",
            "Requirement already satisfied: six in /usr/local/lib/python3.6/dist-packages (from catboost) (1.12.0)\n",
            "Requirement already satisfied: scipy in /usr/local/lib/python3.6/dist-packages (from catboost) (1.4.1)\n",
            "Requirement already satisfied: pandas>=0.24.0 in /usr/local/lib/python3.6/dist-packages (from catboost) (1.0.4)\n",
            "Requirement already satisfied: matplotlib in /usr/local/lib/python3.6/dist-packages (from catboost) (3.2.1)\n",
            "Requirement already satisfied: plotly in /usr/local/lib/python3.6/dist-packages (from catboost) (4.4.1)\n",
            "Requirement already satisfied: graphviz in /usr/local/lib/python3.6/dist-packages (from catboost) (0.10.1)\n",
            "Requirement already satisfied: pytz>=2017.2 in /usr/local/lib/python3.6/dist-packages (from pandas>=0.24.0->catboost) (2018.9)\n",
            "Requirement already satisfied: python-dateutil>=2.6.1 in /usr/local/lib/python3.6/dist-packages (from pandas>=0.24.0->catboost) (2.8.1)\n",
            "Requirement already satisfied: pyparsing!=2.0.4,!=2.1.2,!=2.1.6,>=2.0.1 in /usr/local/lib/python3.6/dist-packages (from matplotlib->catboost) (2.4.7)\n",
            "Requirement already satisfied: kiwisolver>=1.0.1 in /usr/local/lib/python3.6/dist-packages (from matplotlib->catboost) (1.2.0)\n",
            "Requirement already satisfied: cycler>=0.10 in /usr/local/lib/python3.6/dist-packages (from matplotlib->catboost) (0.10.0)\n",
            "Requirement already satisfied: retrying>=1.3.3 in /usr/local/lib/python3.6/dist-packages (from plotly->catboost) (1.3.3)\n"
          ],
          "name": "stdout"
        }
      ]
    },
    {
      "cell_type": "code",
      "metadata": {
        "id": "R74w2hgIp3vO",
        "colab_type": "code",
        "colab": {}
      },
      "source": [
        "import pandas as pd\n",
        "import numpy as np\n",
        "import seaborn as sns\n",
        "import matplotlib.pyplot as plt\n",
        "from sklearn.feature_selection import SelectFromModel\n",
        "import time\n",
        "%matplotlib inline\n",
        "# Classification\n",
        "from sklearn.svm import SVC\n",
        "from sklearn.naive_bayes import GaussianNB\n",
        "from sklearn.neighbors import KNeighborsClassifier\n",
        "from sklearn.linear_model import LogisticRegression\n",
        "from sklearn.tree import DecisionTreeClassifier, ExtraTreeClassifier\n",
        "from sklearn.ensemble import RandomForestClassifier, AdaBoostClassifier, BaggingClassifier, ExtraTreesClassifier, GradientBoostingClassifier\n",
        "\n",
        "from xgboost import XGBRegressor\n",
        "from lightgbm import LGBMRegressor\n",
        "import xgboost as xgb\n",
        "import lightgbm as lgb\n",
        "#import catboost as cat\n",
        "from catboost import CatBoostRegressor\n",
        "\n",
        "# Preprocessing\n",
        "from sklearn.metrics import log_loss\n",
        "from sklearn.metrics import accuracy_score\n",
        "from sklearn.preprocessing import LabelEncoder, MinMaxScaler\n",
        "from sklearn.model_selection import train_test_split, cross_val_score\n",
        "\n",
        "from sklearn.model_selection import StratifiedKFold,KFold\n",
        "from sklearn.model_selection import GridSearchCV\n",
        "from sklearn.metrics import f1_score\n",
        "from sklearn.metrics import roc_auc_score\n",
        "from mlxtend.classifier import StackingClassifier\n",
        "from datetime import datetime, timedelta\n",
        "from sklearn.naive_bayes import MultinomialNB\n",
        "\n",
        "import joblib\n",
        "from sklearn.preprocessing import LabelEncoder\n",
        "from sklearn.linear_model import SGDClassifier\n",
        "# !pip install pycaret\n",
        "# from pycaret.classification import *\n",
        "\n",
        "from sklearn.model_selection import *\n",
        "from sklearn.metrics import *\n",
        "from sklearn.linear_model import *\n",
        "from wordcloud import WordCloud, STOPWORDS\n",
        "from sklearn.feature_extraction.text import CountVectorizer, TfidfVectorizer\n",
        "from nltk.tokenize import TreebankWordTokenizer\n",
        "import matplotlib.pyplot as plt\n",
        "%matplotlib inline\n",
        "import re"
      ],
      "execution_count": 0,
      "outputs": []
    },
    {
      "cell_type": "code",
      "metadata": {
        "id": "foEQ2gePsFgA",
        "colab_type": "code",
        "outputId": "ce943a6c-3689-42b3-8c40-160162bf5f78",
        "colab": {
          "base_uri": "https://localhost:8080/",
          "height": 34
        }
      },
      "source": [
        "test = pd.read_csv('/content/drive/My Drive/DS Projects/MH E commerce/Test.csv')\n",
        "train = pd.read_csv('/content/drive/My Drive/DS Projects/MH E commerce/Train.csv')\n",
        "print(test.shape,train.shape)"
      ],
      "execution_count": 0,
      "outputs": [
        {
          "output_type": "stream",
          "text": [
            "(1051, 7) (2452, 8)\n"
          ],
          "name": "stdout"
        }
      ]
    },
    {
      "cell_type": "code",
      "metadata": {
        "id": "6-YW6dL4jKBr",
        "colab_type": "code",
        "outputId": "acb19313-6e96-4fe2-838a-bbfea8af75a5",
        "colab": {
          "base_uri": "https://localhost:8080/",
          "height": 197
        }
      },
      "source": [
        "train.head()"
      ],
      "execution_count": 0,
      "outputs": [
        {
          "output_type": "execute_result",
          "data": {
            "text/html": [
              "<div>\n",
              "<style scoped>\n",
              "    .dataframe tbody tr th:only-of-type {\n",
              "        vertical-align: middle;\n",
              "    }\n",
              "\n",
              "    .dataframe tbody tr th {\n",
              "        vertical-align: top;\n",
              "    }\n",
              "\n",
              "    .dataframe thead th {\n",
              "        text-align: right;\n",
              "    }\n",
              "</style>\n",
              "<table border=\"1\" class=\"dataframe\">\n",
              "  <thead>\n",
              "    <tr style=\"text-align: right;\">\n",
              "      <th></th>\n",
              "      <th>Product</th>\n",
              "      <th>Product_Brand</th>\n",
              "      <th>Item_Category</th>\n",
              "      <th>Subcategory_1</th>\n",
              "      <th>Subcategory_2</th>\n",
              "      <th>Item_Rating</th>\n",
              "      <th>Date</th>\n",
              "      <th>Selling_Price</th>\n",
              "    </tr>\n",
              "  </thead>\n",
              "  <tbody>\n",
              "    <tr>\n",
              "      <th>0</th>\n",
              "      <td>P-2610</td>\n",
              "      <td>B-659</td>\n",
              "      <td>bags wallets belts</td>\n",
              "      <td>bags</td>\n",
              "      <td>hand bags</td>\n",
              "      <td>4.3</td>\n",
              "      <td>2/3/2017</td>\n",
              "      <td>291.0</td>\n",
              "    </tr>\n",
              "    <tr>\n",
              "      <th>1</th>\n",
              "      <td>P-2453</td>\n",
              "      <td>B-3078</td>\n",
              "      <td>clothing</td>\n",
              "      <td>women s clothing</td>\n",
              "      <td>western wear</td>\n",
              "      <td>3.1</td>\n",
              "      <td>7/1/2015</td>\n",
              "      <td>897.0</td>\n",
              "    </tr>\n",
              "    <tr>\n",
              "      <th>2</th>\n",
              "      <td>P-6802</td>\n",
              "      <td>B-1810</td>\n",
              "      <td>home decor festive needs</td>\n",
              "      <td>showpieces</td>\n",
              "      <td>ethnic</td>\n",
              "      <td>3.5</td>\n",
              "      <td>1/12/2019</td>\n",
              "      <td>792.0</td>\n",
              "    </tr>\n",
              "    <tr>\n",
              "      <th>3</th>\n",
              "      <td>P-4452</td>\n",
              "      <td>B-3078</td>\n",
              "      <td>beauty and personal care</td>\n",
              "      <td>eye care</td>\n",
              "      <td>h2o plus eye care</td>\n",
              "      <td>4.0</td>\n",
              "      <td>12/12/2014</td>\n",
              "      <td>837.0</td>\n",
              "    </tr>\n",
              "    <tr>\n",
              "      <th>4</th>\n",
              "      <td>P-8454</td>\n",
              "      <td>B-3078</td>\n",
              "      <td>clothing</td>\n",
              "      <td>men s clothing</td>\n",
              "      <td>t shirts</td>\n",
              "      <td>4.3</td>\n",
              "      <td>12/12/2013</td>\n",
              "      <td>470.0</td>\n",
              "    </tr>\n",
              "  </tbody>\n",
              "</table>\n",
              "</div>"
            ],
            "text/plain": [
              "  Product Product_Brand  ...        Date Selling_Price\n",
              "0  P-2610         B-659  ...    2/3/2017         291.0\n",
              "1  P-2453        B-3078  ...    7/1/2015         897.0\n",
              "2  P-6802        B-1810  ...   1/12/2019         792.0\n",
              "3  P-4452        B-3078  ...  12/12/2014         837.0\n",
              "4  P-8454        B-3078  ...  12/12/2013         470.0\n",
              "\n",
              "[5 rows x 8 columns]"
            ]
          },
          "metadata": {
            "tags": []
          },
          "execution_count": 67
        }
      ]
    },
    {
      "cell_type": "code",
      "metadata": {
        "id": "N0i_UyYztkwo",
        "colab_type": "code",
        "outputId": "dff8874c-7fc4-4f61-840d-e8c8ea3735e4",
        "colab": {
          "base_uri": "https://localhost:8080/",
          "height": 352
        }
      },
      "source": [
        "sns.heatmap(test.isnull())"
      ],
      "execution_count": 0,
      "outputs": [
        {
          "output_type": "execute_result",
          "data": {
            "text/plain": [
              "<matplotlib.axes._subplots.AxesSubplot at 0x7f2c107a5b00>"
            ]
          },
          "metadata": {
            "tags": []
          },
          "execution_count": 69
        },
        {
          "output_type": "display_data",
          "data": {
            "image/png": "[encoded data removed]",
            "text/plain": [
              "<Figure size 432x288 with 2 Axes>"
            ]
          },
          "metadata": {
            "tags": [],
            "needs_background": "light"
          }
        }
      ]
    },
    {
      "cell_type": "code",
      "metadata": {
        "id": "HGgyO8i_tg9z",
        "colab_type": "code",
        "outputId": "9d0a541a-23e5-41de-c04f-96922dc2f723",
        "colab": {
          "base_uri": "https://localhost:8080/",
          "height": 236
        }
      },
      "source": [
        "wc = WordCloud(background_color='white',\n",
        "                    stopwords =  set(STOPWORDS),\n",
        "                    max_words = 50, \n",
        "                    random_state = 42,)\n",
        "wc.generate(' '.join(train['Subcategory_2']))\n",
        "plt.imshow(wc)"
      ],
      "execution_count": 0,
      "outputs": [
        {
          "output_type": "execute_result",
          "data": {
            "text/plain": [
              "<matplotlib.image.AxesImage at 0x7f2c10653a20>"
            ]
          },
          "metadata": {
            "tags": []
          },
          "execution_count": 71
        },
        {
          "output_type": "display_data",
          "data": {
            "image/png": "[encoded data removed]",
            "text/plain": [
              "<Figure size 432x288 with 1 Axes>"
            ]
          },
          "metadata": {
            "tags": [],
            "needs_background": "light"
          }
        }
      ]
    },
    {
      "cell_type": "code",
      "metadata": {
        "id": "3OR-VzLZuTT2",
        "colab_type": "code",
        "colab": {}
      },
      "source": [
        "df=train.append(test,ignore_index=True)\n",
        "target = 'Selling_Price'"
      ],
      "execution_count": 0,
      "outputs": []
    },
    {
      "cell_type": "code",
      "metadata": {
        "id": "g7qhoSEsbVL1",
        "colab_type": "code",
        "outputId": "22333d7f-ae61-4385-c90c-a44b458bd7cf",
        "colab": {
          "base_uri": "https://localhost:8080/",
          "height": 34
        }
      },
      "source": [
        "df.shape,df['Product'].nunique()"
      ],
      "execution_count": 0,
      "outputs": [
        {
          "output_type": "execute_result",
          "data": {
            "text/plain": [
              "((3503, 8), 3503)"
            ]
          },
          "metadata": {
            "tags": []
          },
          "execution_count": 73
        }
      ]
    },
    {
      "cell_type": "code",
      "metadata": {
        "id": "lZDD94RXiet2",
        "colab_type": "code",
        "colab": {}
      },
      "source": [
        "df['st_month'] = pd.to_datetime(df['Date']).dt.month\n",
        "df['st_day'] = pd.to_datetime(df['Date']).dt.day\n",
        "df['st_year'] = pd.to_datetime(df['Date']).dt.year\n",
        "df['quarter'] =  pd.to_datetime(df['Date']).dt.quarter\n",
        "df['semester'] = np.where(df.quarter.isin([1,2]),1,2)\n",
        "df['dayofweek'] =  pd.to_datetime(df['Date']).dt.dayofweek\n",
        "df['weekend'] = np.where(df['dayofweek'].isin([5,6]),1,0)\n",
        "df.drop(columns = ['Product','Date'],inplace = True)"
      ],
      "execution_count": 0,
      "outputs": []
    },
    {
      "cell_type": "code",
      "metadata": {
        "id": "1lRetP33jyN3",
        "colab_type": "code",
        "outputId": "66ac4962-aa47-4fa5-b2e2-23f05160bc1d",
        "colab": {
          "base_uri": "https://localhost:8080/",
          "height": 197
        }
      },
      "source": [
        "df.head()"
      ],
      "execution_count": 0,
      "outputs": [
        {
          "output_type": "execute_result",
          "data": {
            "text/html": [
              "<div>\n",
              "<style scoped>\n",
              "    .dataframe tbody tr th:only-of-type {\n",
              "        vertical-align: middle;\n",
              "    }\n",
              "\n",
              "    .dataframe tbody tr th {\n",
              "        vertical-align: top;\n",
              "    }\n",
              "\n",
              "    .dataframe thead th {\n",
              "        text-align: right;\n",
              "    }\n",
              "</style>\n",
              "<table border=\"1\" class=\"dataframe\">\n",
              "  <thead>\n",
              "    <tr style=\"text-align: right;\">\n",
              "      <th></th>\n",
              "      <th>Product_Brand</th>\n",
              "      <th>Item_Category</th>\n",
              "      <th>Subcategory_1</th>\n",
              "      <th>Subcategory_2</th>\n",
              "      <th>Item_Rating</th>\n",
              "      <th>Selling_Price</th>\n",
              "      <th>st_month</th>\n",
              "      <th>st_day</th>\n",
              "      <th>st_year</th>\n",
              "      <th>quarter</th>\n",
              "      <th>semester</th>\n",
              "      <th>dayofweek</th>\n",
              "      <th>weekend</th>\n",
              "    </tr>\n",
              "  </thead>\n",
              "  <tbody>\n",
              "    <tr>\n",
              "      <th>0</th>\n",
              "      <td>B-659</td>\n",
              "      <td>bags wallets belts</td>\n",
              "      <td>bags</td>\n",
              "      <td>hand bags</td>\n",
              "      <td>4.3</td>\n",
              "      <td>291.0</td>\n",
              "      <td>2</td>\n",
              "      <td>3</td>\n",
              "      <td>2017</td>\n",
              "      <td>1</td>\n",
              "      <td>1</td>\n",
              "      <td>4</td>\n",
              "      <td>0</td>\n",
              "    </tr>\n",
              "    <tr>\n",
              "      <th>1</th>\n",
              "      <td>B-3078</td>\n",
              "      <td>clothing</td>\n",
              "      <td>women s clothing</td>\n",
              "      <td>western wear</td>\n",
              "      <td>3.1</td>\n",
              "      <td>897.0</td>\n",
              "      <td>7</td>\n",
              "      <td>1</td>\n",
              "      <td>2015</td>\n",
              "      <td>3</td>\n",
              "      <td>2</td>\n",
              "      <td>2</td>\n",
              "      <td>0</td>\n",
              "    </tr>\n",
              "    <tr>\n",
              "      <th>2</th>\n",
              "      <td>B-1810</td>\n",
              "      <td>home decor festive needs</td>\n",
              "      <td>showpieces</td>\n",
              "      <td>ethnic</td>\n",
              "      <td>3.5</td>\n",
              "      <td>792.0</td>\n",
              "      <td>1</td>\n",
              "      <td>12</td>\n",
              "      <td>2019</td>\n",
              "      <td>1</td>\n",
              "      <td>1</td>\n",
              "      <td>5</td>\n",
              "      <td>1</td>\n",
              "    </tr>\n",
              "    <tr>\n",
              "      <th>3</th>\n",
              "      <td>B-3078</td>\n",
              "      <td>beauty and personal care</td>\n",
              "      <td>eye care</td>\n",
              "      <td>h2o plus eye care</td>\n",
              "      <td>4.0</td>\n",
              "      <td>837.0</td>\n",
              "      <td>12</td>\n",
              "      <td>12</td>\n",
              "      <td>2014</td>\n",
              "      <td>4</td>\n",
              "      <td>2</td>\n",
              "      <td>4</td>\n",
              "      <td>0</td>\n",
              "    </tr>\n",
              "    <tr>\n",
              "      <th>4</th>\n",
              "      <td>B-3078</td>\n",
              "      <td>clothing</td>\n",
              "      <td>men s clothing</td>\n",
              "      <td>t shirts</td>\n",
              "      <td>4.3</td>\n",
              "      <td>470.0</td>\n",
              "      <td>12</td>\n",
              "      <td>12</td>\n",
              "      <td>2013</td>\n",
              "      <td>4</td>\n",
              "      <td>2</td>\n",
              "      <td>3</td>\n",
              "      <td>0</td>\n",
              "    </tr>\n",
              "  </tbody>\n",
              "</table>\n",
              "</div>"
            ],
            "text/plain": [
              "  Product_Brand             Item_Category  ... dayofweek weekend\n",
              "0         B-659        bags wallets belts  ...         4       0\n",
              "1        B-3078                  clothing  ...         2       0\n",
              "2        B-1810  home decor festive needs  ...         5       1\n",
              "3        B-3078  beauty and personal care  ...         4       0\n",
              "4        B-3078                  clothing  ...         3       0\n",
              "\n",
              "[5 rows x 13 columns]"
            ]
          },
          "metadata": {
            "tags": []
          },
          "execution_count": 75
        }
      ]
    },
    {
      "cell_type": "code",
      "metadata": {
        "id": "vyTL0tXeSfOb",
        "colab_type": "code",
        "colab": {}
      },
      "source": [
        "df['BrandCategory'] = df['Product_Brand']+df['Item_Category']"
      ],
      "execution_count": 0,
      "outputs": []
    },
    {
      "cell_type": "code",
      "metadata": {
        "id": "qrcj4ilebT5h",
        "colab_type": "code",
        "colab": {}
      },
      "source": [
        "l1 = df['Item_Category'].unique()#.head(30)"
      ],
      "execution_count": 0,
      "outputs": []
    },
    {
      "cell_type": "code",
      "metadata": {
        "id": "3MXLftOe36jK",
        "colab_type": "code",
        "colab": {}
      },
      "source": [
        "l2 = list(df[(~df['Item_Category'].duplicated(keep=False))]['Item_Category'])"
      ],
      "execution_count": 0,
      "outputs": []
    },
    {
      "cell_type": "code",
      "metadata": {
        "id": "1Gw5GDw85OyU",
        "colab_type": "code",
        "colab": {}
      },
      "source": [
        "categories = [x for x in l1 if x not in l2]"
      ],
      "execution_count": 0,
      "outputs": []
    },
    {
      "cell_type": "code",
      "metadata": {
        "id": "28P0rtG45apX",
        "colab_type": "code",
        "outputId": "04062aad-3271-49ff-eb85-56031d15c2e1",
        "colab": {
          "base_uri": "https://localhost:8080/",
          "height": 514
        }
      },
      "source": [
        "categories"
      ],
      "execution_count": 0,
      "outputs": [
        {
          "output_type": "execute_result",
          "data": {
            "text/plain": [
              "['bags wallets belts',\n",
              " 'clothing',\n",
              " 'home decor festive needs',\n",
              " 'beauty and personal care',\n",
              " 'footwear',\n",
              " 'kitchen dining',\n",
              " 'automotive',\n",
              " 'computers',\n",
              " 'jewellery',\n",
              " 'home furnishing',\n",
              " 'pens stationery',\n",
              " 'toys school supplies',\n",
              " 'furniture',\n",
              " 'mobiles accessories',\n",
              " 'sunglasses',\n",
              " 'cameras accessories',\n",
              " 'baby care',\n",
              " 'ebooks',\n",
              " 'home improvement',\n",
              " 'watches',\n",
              " 'sports fitness',\n",
              " 'eyewear',\n",
              " 'tools hardware',\n",
              " 'home entertainment',\n",
              " 'pet supplies',\n",
              " 'home kitchen',\n",
              " 'gaming',\n",
              " 'health personal care appliances']"
            ]
          },
          "metadata": {
            "tags": []
          },
          "execution_count": 81
        }
      ]
    },
    {
      "cell_type": "code",
      "metadata": {
        "id": "THumwZnq4PAV",
        "colab_type": "code",
        "colab": {}
      },
      "source": [
        "for i in df['Item_Category'] :\n",
        "  if i in list(df[(~df['Item_Category'].duplicated(keep=False))]['Item_Category']) :\n",
        "    df.loc[df['Item_Category'] == i,'Item_Category'] = 'unknown'\n",
        "    # df['Item_Category'] = ''\n",
        "    # print(i)"
      ],
      "execution_count": 0,
      "outputs": []
    },
    {
      "cell_type": "code",
      "metadata": {
        "id": "hxb8R7IzXGyw",
        "colab_type": "code",
        "outputId": "4deb0b71-08cf-4abd-b2be-1acaf0f569a2",
        "colab": {
          "base_uri": "https://localhost:8080/",
          "height": 176
        }
      },
      "source": [
        "df['Item_Category'].unique()"
      ],
      "execution_count": 0,
      "outputs": [
        {
          "output_type": "execute_result",
          "data": {
            "text/plain": [
              "array(['bags wallets belts', 'clothing', 'home decor festive needs',\n",
              "       'beauty and personal care', 'footwear', 'kitchen dining',\n",
              "       'automotive', 'computers', 'unknown', 'jewellery',\n",
              "       'home furnishing', 'pens stationery', 'toys school supplies',\n",
              "       'furniture', 'mobiles accessories', 'sunglasses',\n",
              "       'cameras accessories', 'baby care', 'ebooks', 'home improvement',\n",
              "       'watches', 'sports fitness', 'eyewear', 'tools hardware',\n",
              "       'home entertainment', 'pet supplies', 'home kitchen', 'gaming',\n",
              "       'health personal care appliances'], dtype=object)"
            ]
          },
          "metadata": {
            "tags": []
          },
          "execution_count": 91
        }
      ]
    },
    {
      "cell_type": "code",
      "metadata": {
        "id": "gFtNPAgfYgol",
        "colab_type": "code",
        "colab": {}
      },
      "source": [
        "def feat_eng(df) :\n",
        "\n",
        "#     #aggregate features\n",
        "    cat_agg=['count','nunique']\n",
        "    num_agg=['mean','min','max']\n",
        "    num_agg1=['mean']\n",
        "    agg_col={\n",
        "        'Item_Rating':num_agg, 'Item_Category':cat_agg, 'Subcategory_1' : cat_agg, 'Subcategory_2' : cat_agg,}\n",
        "        #'Selling_Price' : num_agg}\n",
        "\n",
        "    agg_df=df.groupby('Product_Brand').agg(agg_col)\n",
        "    agg_df.columns=['agg_' + '_'.join(col).strip() for col in agg_df.columns.values]\n",
        "    agg_df.reset_index(inplace=True)\n",
        "    df=df.merge(agg_df,on='Product_Brand',how='left')\n",
        "\n",
        "    agg_df=df.groupby('BrandCategory').agg(agg_col)\n",
        "    agg_df.columns=['BCagg_' + '_'.join(col).strip() for col in agg_df.columns.values]\n",
        "    agg_df.reset_index(inplace=True)\n",
        "    df=df.merge(agg_df,on='BrandCategory',how='left')\n",
        "    \n",
        "    agg_col={\n",
        "        'Item_Rating':num_agg, 'Subcategory_1' : cat_agg, 'Subcategory_2' : cat_agg}\n",
        "\n",
        "    agg_df=df.groupby('Item_Category').agg(agg_col)\n",
        "    agg_df.columns=['Itagg_' + '_'.join(col).strip() for col in agg_df.columns.values]\n",
        "    agg_df.reset_index(inplace=True)\n",
        "    df=df.merge(agg_df,on='Item_Category',how='left')\n",
        "\n",
        "\n",
        "    return df"
      ],
      "execution_count": 0,
      "outputs": []
    },
    {
      "cell_type": "code",
      "metadata": {
        "id": "x2_LFmnpZKeL",
        "colab_type": "code",
        "colab": {}
      },
      "source": [
        "df1 = feat_eng(df)\n",
        "df = df1"
      ],
      "execution_count": 0,
      "outputs": []
    },
    {
      "cell_type": "code",
      "metadata": {
        "id": "4QYhBK0ihEWX",
        "colab_type": "code",
        "outputId": "1abd363d-60b0-43d9-b768-c092c5530fa4",
        "colab": {
          "base_uri": "https://localhost:8080/",
          "height": 301
        }
      },
      "source": [
        "df.columns"
      ],
      "execution_count": 0,
      "outputs": [
        {
          "output_type": "execute_result",
          "data": {
            "text/plain": [
              "Index(['Product_Brand', 'Item_Category', 'Subcategory_1', 'Subcategory_2',\n",
              "       'Item_Rating', 'Selling_Price', 'st_month', 'st_day', 'st_year',\n",
              "       'quarter', 'semester', 'dayofweek', 'weekend', 'BrandCategory',\n",
              "       'agg_Item_Rating_mean', 'agg_Item_Rating_min', 'agg_Item_Rating_max',\n",
              "       'agg_Item_Category_count', 'agg_Item_Category_nunique',\n",
              "       'agg_Subcategory_1_count', 'agg_Subcategory_1_nunique',\n",
              "       'agg_Subcategory_2_count', 'agg_Subcategory_2_nunique',\n",
              "       'BCagg_Item_Rating_mean', 'BCagg_Item_Rating_min',\n",
              "       'BCagg_Item_Rating_max', 'BCagg_Item_Category_count',\n",
              "       'BCagg_Item_Category_nunique', 'BCagg_Subcategory_1_count',\n",
              "       'BCagg_Subcategory_1_nunique', 'BCagg_Subcategory_2_count',\n",
              "       'BCagg_Subcategory_2_nunique', 'Itagg_Item_Rating_mean',\n",
              "       'Itagg_Item_Rating_min', 'Itagg_Item_Rating_max',\n",
              "       'Itagg_Subcategory_1_count', 'Itagg_Subcategory_1_nunique',\n",
              "       'Itagg_Subcategory_2_count', 'Itagg_Subcategory_2_nunique'],\n",
              "      dtype='object')"
            ]
          },
          "metadata": {
            "tags": []
          },
          "execution_count": 97
        }
      ]
    },
    {
      "cell_type": "code",
      "metadata": {
        "id": "NATN2HTTj1bc",
        "colab_type": "code",
        "colab": {}
      },
      "source": [
        "#df = pd.get_dummies(df, columns = ['Product_Brand'])\n",
        "df = pd.get_dummies(df, columns = ['Product_Brand','Item_Category', 'Subcategory_1', 'Subcategory_2','BrandCategory'])"
      ],
      "execution_count": 0,
      "outputs": []
    },
    {
      "cell_type": "markdown",
      "metadata": {
        "id": "CV0L0LQtlQZb",
        "colab_type": "text"
      },
      "source": [
        "## Data Prep\n"
      ]
    },
    {
      "cell_type": "code",
      "metadata": {
        "id": "1UMTaCmLkn9M",
        "colab_type": "code",
        "outputId": "833b424a-eed7-444d-dcd5-b9837c048832",
        "colab": {
          "base_uri": "https://localhost:8080/",
          "height": 34
        }
      },
      "source": [
        "df_train=df[df[target].isnull()==False].copy()\n",
        "df_test=df[df[target].isnull()==True].copy()\n",
        "df_train = df_train.iloc[:-2]\n",
        "\n",
        "df_test.drop(columns=[target],axis=1, inplace=True)\n",
        "\n",
        "x = df_train.drop(target,axis=1)\n",
        "y = df_train[target]\n",
        "feat = df_test.columns\n",
        "\n",
        "#x,y=smote.fit_sample(x,y)\n",
        "#x, y= os.fit_sample(x, y)\n",
        "print(x.shape,df_test.shape)"
      ],
      "execution_count": 0,
      "outputs": [
        {
          "output_type": "stream",
          "text": [
            "(2450, 3303) (1051, 3303)\n"
          ],
          "name": "stdout"
        }
      ]
    },
    {
      "cell_type": "code",
      "metadata": {
        "id": "MNToyTMBlSge",
        "colab_type": "code",
        "colab": {}
      },
      "source": [
        "\n",
        "def rmse(y_true, y_pred):\n",
        "    return mean_squared_error(y_true, y_pred) ** 0.5"
      ],
      "execution_count": 0,
      "outputs": []
    },
    {
      "cell_type": "code",
      "metadata": {
        "id": "KXKQaZ58qANb",
        "colab_type": "code",
        "colab": {}
      },
      "source": [
        "def make_sub(y_pred,name):\n",
        "    df_sub = pd.DataFrame({target : y_pred})\n",
        "    #df_sub[target] = np.clip(df_sub[target], train[target].min(), train[target].max())\n",
        "    import time\n",
        "    times = time.strftime(\"%m-%d-\")+'{:%H_%M_%S}'.format(datetime.now() + timedelta(hours=5.5))\n",
        "    filename = 'submission-'+name+'_'+times+'.xlsx'\n",
        "    df_sub.to_excel(filename, index=False)\n",
        "    print(df_sub.head(5))\n",
        "    print(f\"{filename} generated!\")"
      ],
      "execution_count": 0,
      "outputs": []
    },
    {
      "cell_type": "code",
      "metadata": {
        "id": "Qwqp4g3nlZTz",
        "colab_type": "code",
        "colab": {}
      },
      "source": [
        "def model_run (model, metric) :\n",
        "    err=[]\n",
        "    y_pred_tot=[]\n",
        "    x_pred_tot= pd.DataFrame()\n",
        "    y_test_tot = pd.DataFrame()\n",
        "    from sklearn.model_selection import KFold,StratifiedKFold\n",
        "    \n",
        "    \n",
        "    fold=StratifiedKFold(n_splits=10,shuffle=True,random_state=1996)\n",
        "    skf = fold.split(x,y)\n",
        "\n",
        "    i=1\n",
        "\n",
        "    for train_index, test_index in skf:\n",
        "        print(f\"\\n\\n-----------------FOLD {i}------------------------\")\n",
        "        x_train, x_test = x.iloc[train_index], x.iloc[test_index]\n",
        "        y_train, y_test = y[train_index], y[test_index]\n",
        "        m=model\n",
        "        #print(y_train.value_counts())\n",
        "        if metric == 'none' :\n",
        "            #m.fit(x_train,np.log(y_train),eval_set=[(x_test, np.log(y_test))],verbose=100, early_stopping_rounds=200)\n",
        "            m.fit(x_train,np.log(y_train))\n",
        "        else :\n",
        "            m.fit(x_train,np.log(y_train),eval_set=[(x_test, np.log(y_test))],eval_metric=metric,verbose=100, early_stopping_rounds=200) #,categorical_feature = cat_feat)\n",
        "        preds = np.exp(m.predict(x_test))\n",
        "        #preds=np.asarray([np.argmax(line) for line in pr])\n",
        "        #print(preds)\n",
        "        print(\"err: \",rmse(np.log(y_test),np.log(preds)))\n",
        "        err.append(rmse(np.log(y_test),np.log(preds)))\n",
        "        p = np.exp(m.predict(df_test[feat]))\n",
        "        #p = np.asarray([np.argmax(line) for line in p1])\n",
        "        x_pred_tot[i] = preds\n",
        "        y_test_tot[i] = y_test.values\n",
        "        i=i+1\n",
        "        y_pred_tot.append(p)\n",
        "        \n",
        "    print (f\"Mean score : {np.mean(err,0)}\")\n",
        "    y_pred = np.mean(y_pred_tot, 0)\n",
        "    x_pred = x_pred_tot.values.ravel()\n",
        "    y_test = y_test_tot.values.ravel()\n",
        "    return  y_test,x_pred,y_pred"
      ],
      "execution_count": 0,
      "outputs": []
    },
    {
      "cell_type": "code",
      "metadata": {
        "id": "ds7cHdE2ljpS",
        "colab_type": "code",
        "outputId": "ab1ecb67-3b3b-48f9-c096-ba986a697e9c",
        "colab": {
          "base_uri": "https://localhost:8080/",
          "height": 534
        }
      },
      "source": [
        "from sklearn.model_selection import GridSearchCV\n",
        "from sklearn.model_selection import RandomizedSearchCV\n",
        "\n",
        "param_grid = {\n",
        "    'max_depth':[10,12],\n",
        "    'subsample':[0.8,0.9,1],\n",
        "    'colsample_bytree': [0.4,0.5,0.6],\n",
        "    'min_child_weight': [0.5,1],\n",
        "    'gamma': [0,1]\n",
        "}\n",
        "\n",
        "k = StratifiedKFold(n_splits=4)\n",
        "\n",
        "xgb = XGBRegressor(n_jobs=4, n_estimators=1000, learning_rate=0.05,  tree_method = \"gpu_hist\")\n",
        "xgb_grid = GridSearchCV(xgb, param_grid, cv=k, scoring='neg_root_mean_squared_error', verbose=1, n_jobs=4)\n",
        "xgb_grid.fit(x, y)"
      ],
      "execution_count": 0,
      "outputs": [
        {
          "output_type": "stream",
          "text": [
            "Fitting 4 folds for each of 72 candidates, totalling 288 fits\n"
          ],
          "name": "stdout"
        },
        {
          "output_type": "stream",
          "text": [
            "/usr/local/lib/python3.6/dist-packages/sklearn/model_selection/_split.py:667: UserWarning: The least populated class in y has only 1 members, which is less than n_splits=4.\n",
            "  % (min_groups, self.n_splits)), UserWarning)\n",
            "[Parallel(n_jobs=4)]: Using backend LokyBackend with 4 concurrent workers.\n",
            "/usr/local/lib/python3.6/dist-packages/joblib/externals/loky/process_executor.py:691: UserWarning: A worker stopped while some jobs were given to the executor. This can be caused by a too short worker timeout or by a memory leak.\n",
            "  \"timeout or by a memory leak.\", UserWarning\n",
            "[Parallel(n_jobs=4)]: Done  42 tasks      | elapsed: 11.2min\n",
            "[Parallel(n_jobs=4)]: Done 192 tasks      | elapsed: 48.8min\n",
            "[Parallel(n_jobs=4)]: Done 288 out of 288 | elapsed: 74.7min finished\n"
          ],
          "name": "stderr"
        },
        {
          "output_type": "stream",
          "text": [
            "[10:45:25] WARNING: /workspace/src/objective/regression_obj.cu:152: reg:linear is now deprecated in favor of reg:squarederror.\n"
          ],
          "name": "stdout"
        },
        {
          "output_type": "execute_result",
          "data": {
            "text/plain": [
              "GridSearchCV(cv=StratifiedKFold(n_splits=4, random_state=None, shuffle=False),\n",
              "             error_score=nan,\n",
              "             estimator=XGBRegressor(base_score=0.5, booster='gbtree',\n",
              "                                    colsample_bylevel=1, colsample_bynode=1,\n",
              "                                    colsample_bytree=1, gamma=0,\n",
              "                                    importance_type='gain', learning_rate=0.05,\n",
              "                                    max_delta_step=0, max_depth=3,\n",
              "                                    min_child_weight=1, missing=None,\n",
              "                                    n_estimators=1000, n_jobs=4, nthread...\n",
              "                                    scale_pos_weight=1, seed=None, silent=None,\n",
              "                                    subsample=1, tree_method='gpu_hist',\n",
              "                                    verbosity=1),\n",
              "             iid='deprecated', n_jobs=4,\n",
              "             param_grid={'colsample_bytree': [0.4, 0.5, 0.6], 'gamma': [0, 1],\n",
              "                         'max_depth': [10, 12], 'min_child_weight': [0.5, 1],\n",
              "                         'subsample': [0.8, 0.9, 1]},\n",
              "             pre_dispatch='2*n_jobs', refit=True, return_train_score=False,\n",
              "             scoring='neg_root_mean_squared_error', verbose=1)"
            ]
          },
          "metadata": {
            "tags": []
          },
          "execution_count": 56
        }
      ]
    },
    {
      "cell_type": "code",
      "metadata": {
        "id": "gDFU3cVsqbE4",
        "colab_type": "code",
        "colab": {}
      },
      "source": [
        "#xgb_best = xgb_grid.best_estimator_\n",
        "xgb = XGBRegressor(n_estimators=1000, max_depth=10, learning_rate=0.05, colsample_bytree=0.5, tree_method = \"gpu_hist\")"
      ],
      "execution_count": 0,
      "outputs": []
    },
    {
      "cell_type": "code",
      "metadata": {
        "id": "ftWJYfpTrkE2",
        "colab_type": "code",
        "outputId": "7e4cb5a8-d380-4a7c-8839-c5a8fdb17e24",
        "colab": {
          "base_uri": "https://localhost:8080/",
          "height": 1000
        }
      },
      "source": [
        "y_test_xgb,x_preds_xgb,y_preds_xgb = model_run(xgb, 'rmse') "
      ],
      "execution_count": 0,
      "outputs": [
        {
          "output_type": "stream",
          "text": [
            "\n",
            "\n",
            "-----------------FOLD 1------------------------\n",
            "[15:56:13] WARNING: /workspace/src/objective/regression_obj.cu:152: reg:linear is now deprecated in favor of reg:squarederror.\n",
            "[0]\tvalidation_0-rmse:5.9901\n",
            "Will train until validation_0-rmse hasn't improved in 200 rounds.\n"
          ],
          "name": "stdout"
        },
        {
          "output_type": "stream",
          "text": [
            "/usr/local/lib/python3.6/dist-packages/sklearn/model_selection/_split.py:667: UserWarning: The least populated class in y has only 1 members, which is less than n_splits=10.\n",
            "  % (min_groups, self.n_splits)), UserWarning)\n"
          ],
          "name": "stderr"
        },
        {
          "output_type": "stream",
          "text": [
            "[100]\tvalidation_0-rmse:0.595949\n",
            "[200]\tvalidation_0-rmse:0.602998\n",
            "[300]\tvalidation_0-rmse:0.613064\n",
            "Stopping. Best iteration:\n",
            "[107]\tvalidation_0-rmse:0.595155\n",
            "\n",
            "err:  0.5951546612719025\n",
            "\n",
            "\n",
            "-----------------FOLD 2------------------------\n",
            "[15:56:21] WARNING: /workspace/src/objective/regression_obj.cu:152: reg:linear is now deprecated in favor of reg:squarederror.\n",
            "[0]\tvalidation_0-rmse:6.00139\n",
            "Will train until validation_0-rmse hasn't improved in 200 rounds.\n",
            "[100]\tvalidation_0-rmse:0.723117\n",
            "[200]\tvalidation_0-rmse:0.700686\n",
            "[300]\tvalidation_0-rmse:0.714565\n",
            "Stopping. Best iteration:\n",
            "[186]\tvalidation_0-rmse:0.698592\n",
            "\n",
            "err:  0.6985920060733379\n",
            "\n",
            "\n",
            "-----------------FOLD 3------------------------\n",
            "[15:56:31] WARNING: /workspace/src/objective/regression_obj.cu:152: reg:linear is now deprecated in favor of reg:squarederror.\n",
            "[0]\tvalidation_0-rmse:5.90949\n",
            "Will train until validation_0-rmse hasn't improved in 200 rounds.\n",
            "[100]\tvalidation_0-rmse:0.670545\n",
            "[200]\tvalidation_0-rmse:0.659282\n",
            "[300]\tvalidation_0-rmse:0.666382\n",
            "Stopping. Best iteration:\n",
            "[177]\tvalidation_0-rmse:0.65521\n",
            "\n",
            "err:  0.6552098175263669\n",
            "\n",
            "\n",
            "-----------------FOLD 4------------------------\n",
            "[15:56:43] WARNING: /workspace/src/objective/regression_obj.cu:152: reg:linear is now deprecated in favor of reg:squarederror.\n",
            "[0]\tvalidation_0-rmse:5.98699\n",
            "Will train until validation_0-rmse hasn't improved in 200 rounds.\n",
            "[100]\tvalidation_0-rmse:0.624936\n",
            "[200]\tvalidation_0-rmse:0.605288\n",
            "[300]\tvalidation_0-rmse:0.611736\n",
            "Stopping. Best iteration:\n",
            "[198]\tvalidation_0-rmse:0.604643\n",
            "\n",
            "err:  0.6046426836138734\n",
            "\n",
            "\n",
            "-----------------FOLD 5------------------------\n",
            "[15:56:54] WARNING: /workspace/src/objective/regression_obj.cu:152: reg:linear is now deprecated in favor of reg:squarederror.\n",
            "[0]\tvalidation_0-rmse:5.98942\n",
            "Will train until validation_0-rmse hasn't improved in 200 rounds.\n",
            "[100]\tvalidation_0-rmse:0.665982\n",
            "[200]\tvalidation_0-rmse:0.65628\n",
            "[300]\tvalidation_0-rmse:0.67302\n",
            "Stopping. Best iteration:\n",
            "[160]\tvalidation_0-rmse:0.652738\n",
            "\n",
            "err:  0.6527384088980831\n",
            "\n",
            "\n",
            "-----------------FOLD 6------------------------\n",
            "[15:57:04] WARNING: /workspace/src/objective/regression_obj.cu:152: reg:linear is now deprecated in favor of reg:squarederror.\n",
            "[0]\tvalidation_0-rmse:5.8763\n",
            "Will train until validation_0-rmse hasn't improved in 200 rounds.\n",
            "[100]\tvalidation_0-rmse:0.660123\n",
            "[200]\tvalidation_0-rmse:0.670469\n",
            "[300]\tvalidation_0-rmse:0.692894\n",
            "Stopping. Best iteration:\n",
            "[105]\tvalidation_0-rmse:0.658668\n",
            "\n",
            "err:  0.6586675197273383\n",
            "\n",
            "\n",
            "-----------------FOLD 7------------------------\n",
            "[15:57:12] WARNING: /workspace/src/objective/regression_obj.cu:152: reg:linear is now deprecated in favor of reg:squarederror.\n",
            "[0]\tvalidation_0-rmse:5.98521\n",
            "Will train until validation_0-rmse hasn't improved in 200 rounds.\n",
            "[100]\tvalidation_0-rmse:0.606257\n",
            "[200]\tvalidation_0-rmse:0.602718\n",
            "[300]\tvalidation_0-rmse:0.612163\n",
            "Stopping. Best iteration:\n",
            "[143]\tvalidation_0-rmse:0.599755\n",
            "\n",
            "err:  0.5997552244417443\n",
            "\n",
            "\n",
            "-----------------FOLD 8------------------------\n",
            "[15:57:21] WARNING: /workspace/src/objective/regression_obj.cu:152: reg:linear is now deprecated in favor of reg:squarederror.\n",
            "[0]\tvalidation_0-rmse:5.93319\n",
            "Will train until validation_0-rmse hasn't improved in 200 rounds.\n",
            "[100]\tvalidation_0-rmse:0.660289\n",
            "[200]\tvalidation_0-rmse:0.660991\n",
            "[300]\tvalidation_0-rmse:0.665731\n",
            "Stopping. Best iteration:\n",
            "[136]\tvalidation_0-rmse:0.652946\n",
            "\n",
            "err:  0.6529461718482998\n",
            "\n",
            "\n",
            "-----------------FOLD 9------------------------\n",
            "[15:57:31] WARNING: /workspace/src/objective/regression_obj.cu:152: reg:linear is now deprecated in favor of reg:squarederror.\n",
            "[0]\tvalidation_0-rmse:5.91721\n",
            "Will train until validation_0-rmse hasn't improved in 200 rounds.\n",
            "[100]\tvalidation_0-rmse:0.659366\n",
            "[200]\tvalidation_0-rmse:0.659935\n",
            "Stopping. Best iteration:\n",
            "[94]\tvalidation_0-rmse:0.656424\n",
            "\n",
            "err:  0.6564241671489897\n",
            "\n",
            "\n",
            "-----------------FOLD 10------------------------\n",
            "[15:57:39] WARNING: /workspace/src/objective/regression_obj.cu:152: reg:linear is now deprecated in favor of reg:squarederror.\n",
            "[0]\tvalidation_0-rmse:5.98126\n",
            "Will train until validation_0-rmse hasn't improved in 200 rounds.\n",
            "[100]\tvalidation_0-rmse:0.782135\n",
            "[200]\tvalidation_0-rmse:0.788313\n",
            "[300]\tvalidation_0-rmse:0.801374\n",
            "Stopping. Best iteration:\n",
            "[126]\tvalidation_0-rmse:0.775989\n",
            "\n",
            "err:  0.7759895211716282\n",
            "Mean score : 0.6550120181721565\n"
          ],
          "name": "stdout"
        }
      ]
    },
    {
      "cell_type": "code",
      "metadata": {
        "id": "CG1xg3G_6rst",
        "colab_type": "code",
        "outputId": "d23ca807-eedb-4705-864d-2998b63004d9",
        "colab": {
          "base_uri": "https://localhost:8080/",
          "height": 34
        }
      },
      "source": [
        "rmse(np.log(y_test_xgb),np.log(x_preds_xgb))"
      ],
      "execution_count": 0,
      "outputs": [
        {
          "output_type": "execute_result",
          "data": {
            "text/plain": [
              "0.6569733883781339"
            ]
          },
          "metadata": {
            "tags": []
          },
          "execution_count": 138
        }
      ]
    },
    {
      "cell_type": "code",
      "metadata": {
        "id": "XNrb5NperqS5",
        "colab_type": "code",
        "outputId": "81e1f037-c1d0-4ba4-dd59-eefdaa4612ad",
        "colab": {
          "base_uri": "https://localhost:8080/",
          "height": 141
        }
      },
      "source": [
        "make_sub(y_preds_xgb,'xgb')"
      ],
      "execution_count": 0,
      "outputs": [
        {
          "output_type": "stream",
          "text": [
            "   Selling_Price\n",
            "0    2577.482422\n",
            "1     438.965881\n",
            "2     719.418823\n",
            "3     358.112000\n",
            "4     675.059265\n",
            "submission-xgb_agg_f_06-14-21_27_48.xlsx generated!\n"
          ],
          "name": "stdout"
        }
      ]
    }
  ]
}